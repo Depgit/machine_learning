{
 "cells": [
  {
   "cell_type": "markdown",
   "id": "08fa6540-0d80-4cec-bd7f-60616934be14",
   "metadata": {},
   "source": [
    "# Normalization\n",
    "> X[i] = (X[i]-X(min))/(X(max)-X(min))"
   ]
  },
  {
   "cell_type": "markdown",
   "id": "05d3cd85-8b59-4e11-a7f2-c1653f3e9a86",
   "metadata": {},
   "source": [
    "** "
   ]
  },
  {
   "cell_type": "markdown",
   "id": "906d65f3-2639-427e-92b0-37b2bf52c50b",
   "metadata": {},
   "source": [
    "# Standardisation\n",
    "\n",
    "> X[i] = (X[i] - mean)/standard_deviation"
   ]
  },
  {
   "cell_type": "code",
   "execution_count": null,
   "id": "660fad19-0d82-4a45-ad80-c4b086d98931",
   "metadata": {},
   "outputs": [],
   "source": []
  }
 ],
 "metadata": {
  "kernelspec": {
   "display_name": "Python 3 (ipykernel)",
   "language": "python",
   "name": "python3"
  },
  "language_info": {
   "codemirror_mode": {
    "name": "ipython",
    "version": 3
   },
   "file_extension": ".py",
   "mimetype": "text/x-python",
   "name": "python",
   "nbconvert_exporter": "python",
   "pygments_lexer": "ipython3",
   "version": "3.9.7"
  }
 },
 "nbformat": 4,
 "nbformat_minor": 5
}
